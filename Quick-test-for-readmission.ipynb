{
 "cells": [
  {
   "cell_type": "code",
   "execution_count": 1,
   "id": "45605027-26b7-4e6f-8366-27269f36de66",
   "metadata": {},
   "outputs": [],
   "source": [
    "import pandas as pd\n",
    "import numpy as np\n",
    "\n",
    "# Helper: read & uppercase columns\n",
    "def read_upper(path, parse_dates=()):\n",
    "    df = pd.read_csv(path, low_memory=False)\n",
    "    df.columns = df.columns.str.upper()\n",
    "    for c in parse_dates:\n",
    "        if c in df.columns:\n",
    "            df[c] = pd.to_datetime(df[c], errors=\"coerce\")\n",
    "    return df\n",
    "\n",
    "enc = read_upper(\"encounters.csv\", parse_dates=(\"START\",\"STOP\"))\n",
    "# Optional for age/sex\n",
    "pts = read_upper(\"patients.csv\",  parse_dates=(\"BIRTHDATE\",))"
   ]
  },
  {
   "cell_type": "code",
   "execution_count": 2,
   "id": "7f5f8a2a-9c74-4e15-9d82-d39fbf3e1940",
   "metadata": {},
   "outputs": [],
   "source": [
    "# Keep adult inpatient encounters with valid times\n",
    "enc = enc[enc[\"ENCOUNTERCLASS\"].str.lower() == \"inpatient\"].copy()\n",
    "enc = enc[enc[\"START\"].notna() & enc[\"STOP\"].notna()].copy()\n",
    "\n",
    "# Standard time columns\n",
    "enc[\"admit_time\"]     = enc[\"START\"]\n",
    "enc[\"discharge_time\"] = enc[\"STOP\"]\n",
    "\n",
    "# Cost column: prefer TOTAL_CLAIM_COST; fallback to BASE_ENCOUNTER_COST; else zeros\n",
    "if \"TOTAL_CLAIM_COST\" not in enc.columns:\n",
    "    if \"BASE_ENCOUNTER_COST\" in enc.columns:\n",
    "        enc[\"TOTAL_CLAIM_COST\"] = enc[\"BASE_ENCOUNTER_COST\"]\n",
    "    else:\n",
    "        enc[\"TOTAL_CLAIM_COST\"] = 0.0\n",
    "enc[\"TOTAL_CLAIM_COST\"] = pd.to_numeric(enc[\"TOTAL_CLAIM_COST\"], errors=\"coerce\").fillna(0.0)"
   ]
  },
  {
   "cell_type": "code",
   "execution_count": 3,
   "id": "6dfe0679-e2d7-416b-9c2c-3617c320b358",
   "metadata": {},
   "outputs": [
    {
     "data": {
      "text/html": [
       "<div>\n",
       "<style scoped>\n",
       "    .dataframe tbody tr th:only-of-type {\n",
       "        vertical-align: middle;\n",
       "    }\n",
       "\n",
       "    .dataframe tbody tr th {\n",
       "        vertical-align: top;\n",
       "    }\n",
       "\n",
       "    .dataframe thead th {\n",
       "        text-align: right;\n",
       "    }\n",
       "</style>\n",
       "<table border=\"1\" class=\"dataframe\">\n",
       "  <thead>\n",
       "    <tr style=\"text-align: right;\">\n",
       "      <th></th>\n",
       "      <th>PATIENT</th>\n",
       "      <th>admit_time</th>\n",
       "      <th>discharge_time</th>\n",
       "      <th>cost_30d</th>\n",
       "    </tr>\n",
       "  </thead>\n",
       "  <tbody>\n",
       "    <tr>\n",
       "      <th>0</th>\n",
       "      <td>396e9c69-3923-ef41-6374-922cd0a495dc</td>\n",
       "      <td>1992-05-07 21:33:31+00:00</td>\n",
       "      <td>1992-05-08 21:33:31+00:00</td>\n",
       "      <td>0.0</td>\n",
       "    </tr>\n",
       "    <tr>\n",
       "      <th>1</th>\n",
       "      <td>396e9c69-3923-ef41-6374-922cd0a495dc</td>\n",
       "      <td>2011-06-27 14:21:33+00:00</td>\n",
       "      <td>2011-06-29 15:09:14+00:00</td>\n",
       "      <td>0.0</td>\n",
       "    </tr>\n",
       "    <tr>\n",
       "      <th>2</th>\n",
       "      <td>e2b370cd-f4a6-0265-9dcf-a5c4ccf849ed</td>\n",
       "      <td>2021-10-13 08:30:35+00:00</td>\n",
       "      <td>2021-10-16 03:59:35+00:00</td>\n",
       "      <td>0.0</td>\n",
       "    </tr>\n",
       "    <tr>\n",
       "      <th>3</th>\n",
       "      <td>c26a046f-ff54-fa35-3f03-e27ebbef088a</td>\n",
       "      <td>2020-07-14 14:24:36+00:00</td>\n",
       "      <td>2020-07-18 15:11:17+00:00</td>\n",
       "      <td>0.0</td>\n",
       "    </tr>\n",
       "    <tr>\n",
       "      <th>4</th>\n",
       "      <td>c26a046f-ff54-fa35-3f03-e27ebbef088a</td>\n",
       "      <td>2020-08-28 13:55:34+00:00</td>\n",
       "      <td>2020-09-03 14:49:43+00:00</td>\n",
       "      <td>0.0</td>\n",
       "    </tr>\n",
       "  </tbody>\n",
       "</table>\n",
       "</div>"
      ],
      "text/plain": [
       "                                PATIENT                admit_time  \\\n",
       "0  396e9c69-3923-ef41-6374-922cd0a495dc 1992-05-07 21:33:31+00:00   \n",
       "1  396e9c69-3923-ef41-6374-922cd0a495dc 2011-06-27 14:21:33+00:00   \n",
       "2  e2b370cd-f4a6-0265-9dcf-a5c4ccf849ed 2021-10-13 08:30:35+00:00   \n",
       "3  c26a046f-ff54-fa35-3f03-e27ebbef088a 2020-07-14 14:24:36+00:00   \n",
       "4  c26a046f-ff54-fa35-3f03-e27ebbef088a 2020-08-28 13:55:34+00:00   \n",
       "\n",
       "             discharge_time  cost_30d  \n",
       "0 1992-05-08 21:33:31+00:00       0.0  \n",
       "1 2011-06-29 15:09:14+00:00       0.0  \n",
       "2 2021-10-16 03:59:35+00:00       0.0  \n",
       "3 2020-07-18 15:11:17+00:00       0.0  \n",
       "4 2020-09-03 14:49:43+00:00       0.0  "
      ]
     },
     "execution_count": 3,
     "metadata": {},
     "output_type": "execute_result"
    }
   ],
   "source": [
    "# Index rows: one record per discharge\n",
    "cost = enc[[\"PATIENT\",\"admit_time\",\"discharge_time\"]].copy()\n",
    "\n",
    "# Future encounters within 30 days for same patient (any encounter type; you can restrict if you want)\n",
    "fut = enc[[\"PATIENT\",\"START\",\"TOTAL_CLAIM_COST\"]].rename(columns={\"START\":\"next_start\"})\n",
    "\n",
    "fut_cost = cost.merge(fut, on=\"PATIENT\", how=\"left\")\n",
    "mask = (fut_cost[\"next_start\"] >  fut_cost[\"discharge_time\"]) & \\\n",
    "       (fut_cost[\"next_start\"] <= fut_cost[\"discharge_time\"] + pd.Timedelta(days=30))\n",
    "fut_cost = fut_cost[mask]\n",
    "\n",
    "# Aggregate total cost incurred in the next 30 days\n",
    "y_cost = (fut_cost\n",
    "          .groupby([\"PATIENT\",\"discharge_time\"], as_index=False)[\"TOTAL_CLAIM_COST\"]\n",
    "          .sum()\n",
    "          .rename(columns={\"TOTAL_CLAIM_COST\":\"cost_30d\"}))\n",
    "\n",
    "# Join back to index rows; missing -> 0 cost\n",
    "reg_df = cost.merge(y_cost, on=[\"PATIENT\",\"discharge_time\"], how=\"left\")\n",
    "reg_df[\"cost_30d\"] = reg_df[\"cost_30d\"].fillna(0.0)\n",
    "reg_df.head()"
   ]
  },
  {
   "cell_type": "code",
   "execution_count": 4,
   "id": "d439b61f-4c56-4008-9065-c820ea40598d",
   "metadata": {},
   "outputs": [
    {
     "data": {
      "text/plain": [
       "np.float64(0.1044776119402985)"
      ]
     },
     "execution_count": 4,
     "metadata": {},
     "output_type": "execute_result"
    }
   ],
   "source": [
    "# Sort to identify next starts\n",
    "enc = enc.sort_values([\"PATIENT\",\"admit_time\"])\n",
    "\n",
    "# Next inpatient START within 30 days => label 1\n",
    "nexts = (enc[[\"PATIENT\",\"admit_time\"]].rename(columns={\"admit_time\":\"next_start\"})\n",
    "         .merge(enc[[\"PATIENT\",\"discharge_time\"]], on=\"PATIENT\", how=\"left\"))\n",
    "\n",
    "m = (nexts[\"next_start\"] > nexts[\"discharge_time\"]) & \\\n",
    "    (nexts[\"next_start\"] <= nexts[\"discharge_time\"] + pd.Timedelta(days=30))\n",
    "\n",
    "next_admit = (nexts[m]\n",
    "              .groupby([\"PATIENT\",\"discharge_time\"])[\"next_start\"]\n",
    "              .min().reset_index())\n",
    "\n",
    "cls_df = enc.merge(next_admit, on=[\"PATIENT\",\"discharge_time\"], how=\"left\")\n",
    "cls_df[\"readmit_30d\"] = cls_df[\"next_start\"].notna().astype(int)\n",
    "cls_df[\"readmit_30d\"].mean()  # prevalence check"
   ]
  },
  {
   "cell_type": "code",
   "execution_count": 5,
   "id": "f6c0f69b-4ec9-413a-841f-d718080f6547",
   "metadata": {},
   "outputs": [
    {
     "name": "stdout",
     "output_type": "stream",
     "text": [
      "{'total': 134, 'positives': 14, 'prevalence': 0.1044776119402985}\n",
      "{'with_≥30d_followup': 132, 'share': np.float64(0.9850746268656716)}\n"
     ]
    }
   ],
   "source": [
    "# Sanity: counts per class\n",
    "n_total = len(cls_df)\n",
    "n_pos   = int(cls_df[\"readmit_30d\"].sum())\n",
    "print({\"total\": n_total, \"positives\": n_pos, \"prevalence\": n_pos/n_total})\n",
    "\n",
    "# Ensure only INPATIENT next encounters are driving labels (you already filtered enc to inpatient, so this is OK)\n",
    "\n",
    "# Same-day transfers check (you already used >, not >=, so transfers at the same timestamp are excluded)\n",
    "\n",
    "# How many discharges have ≥30d follow-up available?\n",
    "data_end = enc[\"admit_time\"].max()\n",
    "has_followup = cls_df[\"discharge_time\"] <= (data_end - pd.Timedelta(days=30))\n",
    "print({\"with_≥30d_followup\": int(has_followup.sum()), \"share\": has_followup.mean()})"
   ]
  },
  {
   "cell_type": "code",
   "execution_count": null,
   "id": "3ef4a38b-7bca-483f-b4aa-155f99bc2ec4",
   "metadata": {},
   "outputs": [],
   "source": []
  }
 ],
 "metadata": {
  "kernelspec": {
   "display_name": "Python [conda env:base] *",
   "language": "python",
   "name": "conda-base-py"
  },
  "language_info": {
   "codemirror_mode": {
    "name": "ipython",
    "version": 3
   },
   "file_extension": ".py",
   "mimetype": "text/x-python",
   "name": "python",
   "nbconvert_exporter": "python",
   "pygments_lexer": "ipython3",
   "version": "3.13.5"
  }
 },
 "nbformat": 4,
 "nbformat_minor": 5
}
